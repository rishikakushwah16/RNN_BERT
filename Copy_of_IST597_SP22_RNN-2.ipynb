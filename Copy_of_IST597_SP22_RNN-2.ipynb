{
  "cells": [
    {
      "cell_type": "markdown",
      "metadata": {
        "id": "-C4rdQxKP7UT"
      },
      "source": [
        "# IST597 :Recurrent Neural Networks (RNNs) for sequence classification\n",
        "Thanks to @googleAI, @Keras, @madlalina @nvidia_research \n",
        "----\n",
        "\n",
        "We will be  building a RNN for sentiment analysis on IMDB movie reviews ( [stanford_imdb](https://https://ai.stanford.edu/~amaas/data/sentiment/)). \n"
      ]
    },
    {
      "cell_type": "code",
      "execution_count": 1,
      "metadata": {
        "id": "rvcyRuYbP7UV"
      },
      "outputs": [],
      "source": [
        "import tensorflow as tf\n",
        "import pandas as pd\n",
        "import pickle\n",
        "import matplotlib.pyplot as plt\n",
        "%matplotlib inline\n",
        "tf.random.set_seed(5510)"
      ]
    },
    {
      "cell_type": "code",
      "execution_count": 3,
      "metadata": {
        "id": "ur6a2Sw5WJjM",
        "colab": {
          "base_uri": "https://localhost:8080/"
        },
        "outputId": "82a91dc2-13dc-4daf-cc58-7f201c7067df"
      },
      "outputs": [
        {
          "output_type": "stream",
          "name": "stdout",
          "text": [
            "[nltk_data] Downloading package punkt to /root/nltk_data...\n",
            "[nltk_data]   Unzipping tokenizers/punkt.zip.\n"
          ]
        }
      ],
      "source": [
        "import sys\n",
        "sys.path.insert(1,'/content/')\n",
        "from data_utils import parse_imdb_sequence"
      ]
    },
    {
      "cell_type": "code",
      "execution_count": 4,
      "metadata": {
        "colab": {
          "base_uri": "https://localhost:8080/",
          "height": 281
        },
        "id": "CMNILJ0PP7UW",
        "outputId": "8c9f1b86-4ebd-4743-c245-4bbf10bee5fa"
      },
      "outputs": [
        {
          "output_type": "display_data",
          "data": {
            "text/plain": [
              "<Figure size 432x288 with 1 Axes>"
            ],
            "image/png": "[encoded data removed]"
          },
          "metadata": {
            "needs_background": "light"
          }
        }
      ],
      "source": [
        "length_reviews = pickle.load(open('/content/length_reviews.pkl', 'rb'))\n",
        "pd.DataFrame(length_reviews, columns=['Length reviews']).hist(bins=100, color='blue');\n",
        "plt.grid(False);"
      ]
    },
    {
      "cell_type": "code",
      "execution_count": 12,
      "metadata": {
        "id": "ijVfbU9jP7UY"
      },
      "outputs": [],
      "source": [
        "\n",
        "train_dataset = tf.data.TFRecordDataset('/content/train.tfrecords')\n",
        "train_dataset = train_dataset.map(parse_imdb_sequence).shuffle(buffer_size=10000)\n",
        "train_dataset = train_dataset.padded_batch(512, padded_shapes=([None],[],[]))\n",
        "test_dataset = tf.data.TFRecordDataset('/content/test.tfrecords')\n",
        "test_dataset = test_dataset.map(parse_imdb_sequence).shuffle(buffer_size=10000)\n",
        "test_dataset = test_dataset.padded_batch(512, padded_shapes=([None],[],[]))"
      ]
    },
    {
      "cell_type": "code",
      "execution_count": 15,
      "metadata": {
        "id": "4HmPvIyw8KYS"
      },
      "outputs": [],
      "source": [
        "train_dataset = list(train_dataset)"
      ]
    },
    {
      "cell_type": "code",
      "execution_count": 16,
      "metadata": {
        "id": "ODnaHBdYYAp_"
      },
      "outputs": [],
      "source": [
        "train_dataset = list(train_dataset)"
      ]
    },
    {
      "cell_type": "code",
      "execution_count": 17,
      "metadata": {
        "id": "q-ci1qxGKmbx"
      },
      "outputs": [],
      "source": [
        "train_data, val_data = train_dataset[:40], train_dataset[40:]\n"
      ]
    },
    {
      "cell_type": "code",
      "execution_count": 18,
      "metadata": {
        "id": "-0boPqdDP7UY"
      },
      "outputs": [],
      "source": [
        "# Read the word vocabulary\n",
        "word2idx = pickle.load(open('/content/word2idx.pkl', 'rb'))"
      ]
    },
    {
      "cell_type": "markdown",
      "metadata": {
        "id": "7jVOSepgP7UY"
      },
      "source": [
        "## RNN model for sequence classification, compatible with Eager API \n",
        "----\n",
        "In the cell below, you can find the class that I have created for the RNN model. The API is very similar with one I created in the previous tutorial, except that now we track the accuracy of the model instead of the loss.\n",
        "\n",
        "The idea of the network is very simple. We simply take each word in the review, select its corresponding word embedding (initialized randomly in the beginning), and pass it through the RNN cell. We then take the output of the RNN cell at the end of the sequence and pass it through a dense layer (with ReLU activation) to obtain the final predictions. \n",
        "\n",
        "Like usually, the network inherits from tf.keras.Model in order to keep track of all variables and save/restore them easily.\n",
        "\n",
        "![img](https://github.com/AnkurMali/IST597_Spring_2022/blob/main/tutorials_graphics/rnn_imdb.png?raw=1)"
      ]
    },
    {
      "cell_type": "code",
      "execution_count": 19,
      "metadata": {
        "id": "iUoWg4BSP7UY"
      },
      "outputs": [],
      "source": [
        "class RNNModel(tf.keras.Model):\n",
        "    def __init__(self, embedding_size=100, cell_size=64, dense_size=128, \n",
        "                 num_classes=2, vocabulary_size=None, rnn_cell='lstm',\n",
        "                 device='cpu:0', checkpoint_directory=None):\n",
        "        ''' Define the parameterized layers used during forward-pass, the device\n",
        "            where you would like to run the computation on and the checkpoint\n",
        "            directory. Additionaly, you can also modify the default size of the \n",
        "            network.\n",
        "            \n",
        "            Args:\n",
        "                embedding_size: the size of the word embedding.\n",
        "                cell_size: RNN cell size.\n",
        "                dense_size: the size of the dense layer.\n",
        "                num_classes: the number of labels in the network.\n",
        "                vocabulary_size: the size of the word vocabulary.\n",
        "                rnn_cell: string, either 'lstm' or 'ugrnn'.\n",
        "                device: string, 'cpu:n' or 'gpu:n' (n can vary). Default, 'cpu:0'.\n",
        "                checkpoint_directory: the directory where you would like to save or \n",
        "                                      restore a model.\n",
        "        '''\n",
        "        super(RNNModel, self).__init__()\n",
        "        \n",
        "        # Weights initializer function\n",
        "        w_initializer = tf.compat.v1.keras.initializers.glorot_uniform()\n",
        "    \n",
        "        # Biases initializer function\n",
        "        b_initializer = tf.zeros_initializer()\n",
        "        \n",
        "        # Initialize weights for word embeddings \n",
        "        self.embeddings = tf.keras.layers.Embedding(vocabulary_size, embedding_size, \n",
        "                                                    embeddings_initializer=w_initializer)\n",
        "        \n",
        "        # Dense layer initialization\n",
        "        self.dense_layer = tf.keras.layers.Dense(dense_size, activation=tf.nn.relu, \n",
        "                                                 kernel_initializer=w_initializer, \n",
        "                                                 bias_initializer=b_initializer)\n",
        "        \n",
        "        # Predictions layer initialization\n",
        "        self.pred_layer = tf.keras.layers.Dense(num_classes, activation=None, \n",
        "                                                kernel_initializer=w_initializer, \n",
        "                                                bias_initializer=b_initializer)\n",
        "        \n",
        "        # Basic LSTM cell\n",
        "        if rnn_cell=='lstm':\n",
        "            self.rnn_cell = tf.compat.v1.nn.rnn_cell.BasicLSTMCell(cell_size)\n",
        "        # Else RNN cell\n",
        "        else:\n",
        "            self.rnn_cell = tf.compat.v1.nn.rnn_cell.BasicRNNCell(cell_size)\n",
        "            \n",
        "        # Define the device \n",
        "        self.device = device\n",
        "        \n",
        "        # Define the checkpoint directory\n",
        "        self.checkpoint_directory = checkpoint_directory\n",
        "        \n",
        "    def predict(self, X, seq_length, is_training):\n",
        "        '''\n",
        "        Predicts the probability of each class, based on the input sample.\n",
        "\n",
        "        Args:\n",
        "            X: 2D tensor of shape (batch_size, time_steps).\n",
        "            seq_length: the length of each sequence in the batch.\n",
        "            is_training: Boolean. Either the network is predicting in\n",
        "                         training mode or not.\n",
        "        '''\n",
        "        \n",
        "        # Get the number of samples within a batch\n",
        "        num_samples = tf.shape(X)[0]\n",
        "\n",
        "        # Initialize LSTM cell state with zeros\n",
        "        state = self.rnn_cell.zero_state(num_samples, dtype=tf.float32)\n",
        "        \n",
        "        # Get the embedding of each word in the sequence\n",
        "        embedded_words = self.embeddings(X)\n",
        "        \n",
        "        # Unstack the embeddings\n",
        "        unstacked_embeddings = tf.unstack(embedded_words, axis=1)\n",
        "        \n",
        "        # Iterate through each timestep and append the predictions\n",
        "        outputs = []\n",
        "        for input_step in unstacked_embeddings:\n",
        "            output, state = self.rnn_cell(input_step, state)\n",
        "            outputs.append(output)\n",
        "            \n",
        "        # Stack outputs to (batch_size, time_steps, cell_size)\n",
        "        outputs = tf.stack(outputs, axis=1)\n",
        "        \n",
        "        # Extract the output of the last time step, of each sample\n",
        "        idxs_last_output = tf.stack([tf.range(num_samples), \n",
        "                                     tf.cast(seq_length-1, tf.int32)], axis=1)\n",
        "        final_output = tf.gather_nd(outputs, idxs_last_output)\n",
        "        \n",
        "        # Add dropout for regularization\n",
        "        #dropped_output = tf.compat.v1.layers.Dropout(final_output, rate=0.3, training=is_training)\n",
        "        \n",
        "        # Pass the last cell state through a dense layer (ReLU activation)\n",
        "        dense = self.dense_layer(final_output)\n",
        "        \n",
        "        # Compute the unnormalized log probabilities\n",
        "        logits = self.pred_layer(dense)\n",
        "        return logits\n",
        "    \n",
        "    def loss_fn(self, X, y, seq_length, is_training):\n",
        "        \"\"\" Defines the loss function used during \n",
        "            training.         \n",
        "        \"\"\"\n",
        "        preds = self.predict(X, seq_length, is_training)\n",
        "        loss = tf.nn.sparse_softmax_cross_entropy_with_logits(labels=y, logits=preds)\n",
        "        return loss\n",
        "    \n",
        "    def grads_fn(self, X, y, seq_length, is_training):\n",
        "        \"\"\" Dynamically computes the gradients of the loss value\n",
        "            with respect to the parameters of the model, in each\n",
        "            forward pass.\n",
        "        \"\"\"\n",
        "        with tf.GradientTape() as tape:\n",
        "            loss = self.loss_fn(X, y, seq_length, is_training)\n",
        "        return tape.gradient(loss, self.variables)\n",
        "    \n",
        "    def restore_model(self):\n",
        "        \"\"\" Function to restore trained model.\n",
        "        \"\"\"\n",
        "        with tf.device(self.device):\n",
        "            # Run the model once to initialize variables\n",
        "            dummy_input = tf.constant(tf.zeros((1,1)))\n",
        "            dummy_length = tf.constant(1, shape=(1,))\n",
        "            dummy_pred = self.predict(dummy_input, dummy_length, False)\n",
        "            # Restore the variables of the model\n",
        "            saver = tf.compat.v1.train.Saver(self.variables)\n",
        "            saver.restore(tf.train.latest_checkpoint\n",
        "                          (self.checkpoint_directory))\n",
        "    \n",
        "    def save_model(self, global_step=0):\n",
        "        \"\"\" Function to save trained model.\n",
        "        \"\"\"\n",
        "        tf.compat.v1.train.Saver(self.variables).save(save_path=self.checkpoint_directory, \n",
        "                                       global_step=global_step)   \n",
        "        \n",
        "    def fit(self, training_data, eval_data, test_dataset, optimizer, num_epochs=500, \n",
        "            early_stopping_rounds=10, verbose=10, train_from_scratch=False):\n",
        "        \"\"\" Function to train the model, using the selected optimizer and\n",
        "            for the desired number of epochs. You can either train from scratch\n",
        "            or load the latest model trained. Early stopping is used in order to\n",
        "            mitigate the risk of overfitting the network.\n",
        "            \n",
        "            Args:\n",
        "                training_data: the data you would like to train the model on.\n",
        "                                Must be in the tf.data.Dataset format.\n",
        "                eval_data: the data you would like to evaluate the model on.\n",
        "                            Must be in the tf.data.Dataset format.\n",
        "                optimizer: the optimizer used during training.\n",
        "                num_epochs: the maximum number of iterations you would like to \n",
        "                            train the model.\n",
        "                early_stopping_rounds: stop training if the accuracy on the eval \n",
        "                                       dataset does not increase after n epochs.\n",
        "                verbose: int. Specify how often to print the loss value of the network.\n",
        "                train_from_scratch: boolean. Whether to initialize variables of the\n",
        "                                    the last trained model or initialize them\n",
        "                                    randomly.\n",
        "        \"\"\" \n",
        "    \n",
        "        if train_from_scratch==False:\n",
        "            self.restore_model()\n",
        "        \n",
        "        # Initialize best_acc. This variable will store the highest accuracy\n",
        "        # on the eval dataset.\n",
        "        best_acc = 0\n",
        "        \n",
        "        # Initialize classes to update the mean accuracy of train and eval\n",
        "        train_acc = tf.keras.metrics.Accuracy('train_acc')\n",
        "        test_acc = tf.keras.metrics.Accuracy('test_acc')\n",
        "        val_acc = tf.keras.metrics.Accuracy('val_acc')\n",
        "        \n",
        "        # Initialize dictionary to store the accuracy history\n",
        "        self.history = {}\n",
        "        self.history['train_acc'] = []\n",
        "        self.history['eval_acc'] = []\n",
        "        self.history['val_acc'] = []\n",
        "        self.history['test_acc'] =[]\n",
        "        # Begin training\n",
        "        with tf.device(self.device):\n",
        "            for i in range(num_epochs):\n",
        "                # Training with gradient descent\n",
        "                for step, (X, y, seq_length) in enumerate(train_data):\n",
        "                    grads = self.grads_fn(X, y, seq_length, True)\n",
        "                    optimizer.apply_gradients(zip(grads, self.variables))\n",
        "                    \n",
        "                # Check accuracy train dataset\n",
        "                for step, (X, y, seq_length) in enumerate(train_data):\n",
        "                    logits = self.predict(X, seq_length, False)\n",
        "                    preds = tf.argmax(logits, axis=1)\n",
        "                    train_acc(preds, y)\n",
        "                self.history['train_acc'].append(train_acc.result().numpy())\n",
        "                # Reset metrics\n",
        "                train_acc.reset_states()\n",
        "\n",
        "                # Check accuracy val dataset\n",
        "                for step, (X, y, seq_length) in enumerate(val_data):\n",
        "                    logits = self.predict(X, seq_length, False)\n",
        "                    preds = tf.argmax(logits, axis=1)\n",
        "                    val_acc(preds, y)\n",
        "                self.history['val_acc'].append(val_acc.result().numpy())\n",
        "                # Reset metrics\n",
        "                val_acc.reset_states()\n",
        "                # Check accuracy train dataset\n",
        "                for step, (X, y, seq_length) in enumerate(test_dataset):\n",
        "                    logits = self.predict(X, seq_length, False)\n",
        "                    preds = tf.argmax(logits, axis=1)\n",
        "                    test_acc(preds, y)\n",
        "                self.history['test_acc'].append(test_acc.result().numpy())\n",
        "                # Reset metrics\n",
        "                test_acc.reset_states()\n",
        "\n",
        "                \n",
        "                # Print train and eval accuracy\n",
        "                if (i==0) | ((i+1)%verbose==0):\n",
        "                    print('Train accuracy at epoch %d: ' %(i+1), self.history['train_acc'][-1])\n",
        "                    print('val accuracy at epoch %d: ' %(i+1), self.history['val_acc'][-1])\n",
        "                    print('test accuracy at epoch %d: ' %(i+1), self.history['test_acc'][-1])\n",
        "\n",
        "                # Check for early stopping\n",
        "                if self.history['val_acc'][-1]>best_acc:\n",
        "                    best_acc = self.history['val_acc'][-1]\n",
        "                    count = early_stopping_rounds\n",
        "                else:\n",
        "                    count -= 1\n",
        "                if count==0:\n",
        "                    break  "
      ]
    },
    {
      "cell_type": "markdown",
      "metadata": {
        "id": "Pq07GFNrP7UZ"
      },
      "source": [
        "## Train model with gradient descent and early stopping\n",
        "----"
      ]
    },
    {
      "cell_type": "markdown",
      "metadata": {
        "id": "VIuGUj5CP7UZ"
      },
      "source": [
        "### Model training with simple LSTM cells\n",
        "----"
      ]
    },
    {
      "cell_type": "code",
      "execution_count": 53,
      "metadata": {
        "colab": {
          "base_uri": "https://localhost:8080/"
        },
        "id": "uqk_DJZ3P7Ua",
        "outputId": "b8bb09ca-8d7b-4156-8f54-528037f5621d"
      },
      "outputs": [
        {
          "output_type": "stream",
          "name": "stdout",
          "text": [
            "WARNING:tensorflow:<keras.layers.legacy_rnn.rnn_cell_impl.BasicLSTMCell object at 0x7f2720ba1c90>: Note that this cell is not optimized for performance. Please use tf.contrib.cudnn_rnn.CudnnLSTM for better performance on GPU.\n"
          ]
        },
        {
          "output_type": "stream",
          "name": "stderr",
          "text": [
            "/usr/local/lib/python3.7/dist-packages/ipykernel_launcher.py:45: UserWarning: `tf.nn.rnn_cell.BasicLSTMCell` is deprecated and will be removed in a future version. This class is equivalent as `tf.keras.layers.LSTMCell`, and will be replaced by that in Tensorflow 2.0.\n"
          ]
        }
      ],
      "source": [
        "# Specify the path where you want to save/restore the trained variables.\n",
        "checkpoint_directory = 'models_checkpoints/ImdbRNN/'\n",
        "\n",
        "# Use the GPU if available.\n",
        "device = 'gpu:0'\n",
        "\n",
        "# Define optimizer.\n",
        "optimizer = tf.compat.v1.train.AdamOptimizer(learning_rate=1e-4)\n",
        "\n",
        "# Instantiate model. This doesn't initialize the variables yet.\n",
        "lstm_model = RNNModel(vocabulary_size=len(word2idx), device=device, \n",
        "                      checkpoint_directory=checkpoint_directory)"
      ]
    },
    {
      "cell_type": "code",
      "execution_count": null,
      "metadata": {
        "id": "XblzUamOuO60"
      },
      "outputs": [],
      "source": [
        ""
      ]
    },
    {
      "cell_type": "code",
      "execution_count": 54,
      "metadata": {
        "colab": {
          "base_uri": "https://localhost:8080/"
        },
        "id": "IXvPU8_gP7Ua",
        "outputId": "4c80362c-4dab-4abf-b403-e03bc7ddbc27"
      },
      "outputs": [
        {
          "output_type": "stream",
          "name": "stderr",
          "text": [
            "/usr/local/lib/python3.7/dist-packages/keras/layers/legacy_rnn/rnn_cell_impl.py:756: UserWarning: `layer.add_variable` is deprecated and will be removed in a future version. Please use `layer.add_weight` method instead.\n",
            "  shape=[input_depth + h_depth, 4 * self._num_units])\n",
            "/usr/local/lib/python3.7/dist-packages/keras/layers/legacy_rnn/rnn_cell_impl.py:760: UserWarning: `layer.add_variable` is deprecated and will be removed in a future version. Please use `layer.add_weight` method instead.\n",
            "  initializer=tf.compat.v1.zeros_initializer(dtype=self.dtype))\n"
          ]
        },
        {
          "output_type": "stream",
          "name": "stdout",
          "text": [
            "Train accuracy at epoch 1:  0.6956543\n",
            "val accuracy at epoch 1:  0.66681415\n",
            "test accuracy at epoch 1:  0.65916\n",
            "Train accuracy at epoch 2:  0.81279296\n",
            "val accuracy at epoch 2:  0.78650445\n",
            "test accuracy at epoch 2:  0.78372\n",
            "Train accuracy at epoch 3:  0.8727539\n",
            "val accuracy at epoch 3:  0.8466814\n",
            "test accuracy at epoch 3:  0.82652\n",
            "Train accuracy at epoch 4:  0.9055664\n",
            "val accuracy at epoch 4:  0.8599557\n",
            "test accuracy at epoch 4:  0.831\n",
            "Train accuracy at epoch 5:  0.9423828\n",
            "val accuracy at epoch 5:  0.8840708\n",
            "test accuracy at epoch 5:  0.86604\n",
            "Train accuracy at epoch 6:  0.9608887\n",
            "val accuracy at epoch 6:  0.89026546\n",
            "test accuracy at epoch 6:  0.87328\n",
            "Train accuracy at epoch 7:  0.97280276\n",
            "val accuracy at epoch 7:  0.8960177\n",
            "test accuracy at epoch 7:  0.87892\n",
            "Train accuracy at epoch 8:  0.9802246\n",
            "val accuracy at epoch 8:  0.8918142\n",
            "test accuracy at epoch 8:  0.87604\n",
            "Train accuracy at epoch 9:  0.9830078\n",
            "val accuracy at epoch 9:  0.88628316\n",
            "test accuracy at epoch 9:  0.86956\n",
            "Train accuracy at epoch 10:  0.98759764\n",
            "val accuracy at epoch 10:  0.89026546\n",
            "test accuracy at epoch 10:  0.87112\n"
          ]
        }
      ],
      "source": [
        "# Train model\n",
        "lstm_model.fit(train_data, val_data, test_dataset, optimizer, num_epochs=10, \n",
        "                early_stopping_rounds=5, verbose=1, train_from_scratch=True)"
      ]
    },
    {
      "cell_type": "code",
      "execution_count": 22,
      "metadata": {
        "id": "_EjYsfyvBaOG"
      },
      "outputs": [],
      "source": [
        "#lstm_model.save_model()\n",
        "checkpoint = tf.train.Checkpoint(lstm_model)\n",
        "save_path = checkpoint.save(checkpoint_directory)"
      ]
    },
    {
      "cell_type": "markdown",
      "metadata": {
        "id": "JmzXh0ljP7Ua"
      },
      "source": [
        "### Model training with RNN cells \n",
        "---"
      ]
    },
    {
      "cell_type": "code",
      "execution_count": 23,
      "metadata": {
        "colab": {
          "base_uri": "https://localhost:8080/"
        },
        "id": "TmjyKjDYP7Ub",
        "outputId": "0c3f0322-784c-411e-c9a7-a2ccd1e53704"
      },
      "outputs": [
        {
          "output_type": "stream",
          "name": "stdout",
          "text": [
            "WARNING:tensorflow:<keras.layers.legacy_rnn.rnn_cell_impl.BasicRNNCell object at 0x7f2720545090>: Note that this cell is not optimized for performance. Please use tf.contrib.cudnn_rnn.CudnnRNNTanh for better performance on GPU.\n"
          ]
        },
        {
          "output_type": "stream",
          "name": "stderr",
          "text": [
            "/usr/local/lib/python3.7/dist-packages/ipykernel_launcher.py:48: UserWarning: `tf.nn.rnn_cell.BasicRNNCell` is deprecated and will be removed in a future version. This class is equivalent as `tf.keras.layers.SimpleRNNCell`, and will be replaced by that in Tensorflow 2.0.\n"
          ]
        }
      ],
      "source": [
        "# Define optimizer.\n",
        "optimizer = tf.compat.v1.train.AdamOptimizer(learning_rate=1e-4)\n",
        "\n",
        "# Instantiate model. This doesn't initialize the variables yet.\n",
        "ugrnn_model = RNNModel(vocabulary_size=len(word2idx), rnn_cell='ugrnn', \n",
        "                       device=device, checkpoint_directory=checkpoint_directory)"
      ]
    },
    {
      "cell_type": "code",
      "execution_count": 24,
      "metadata": {
        "colab": {
          "base_uri": "https://localhost:8080/"
        },
        "id": "zd5bDpAzP7Ub",
        "outputId": "02a84a4f-3a1d-4e66-d13e-cf05a8448491"
      },
      "outputs": [
        {
          "output_type": "stream",
          "name": "stderr",
          "text": [
            "/usr/local/lib/python3.7/dist-packages/keras/layers/legacy_rnn/rnn_cell_impl.py:459: UserWarning: `layer.add_variable` is deprecated and will be removed in a future version. Please use `layer.add_weight` method instead.\n",
            "  shape=[input_depth + self._num_units, self._num_units])\n",
            "/usr/local/lib/python3.7/dist-packages/keras/layers/legacy_rnn/rnn_cell_impl.py:463: UserWarning: `layer.add_variable` is deprecated and will be removed in a future version. Please use `layer.add_weight` method instead.\n",
            "  initializer=tf.compat.v1.zeros_initializer(dtype=self.dtype))\n"
          ]
        },
        {
          "output_type": "stream",
          "name": "stdout",
          "text": [
            "Train accuracy at epoch 1:  0.57612306\n",
            "val accuracy at epoch 1:  0.5581858\n",
            "test accuracy at epoch 1:  0.55524\n",
            "Train accuracy at epoch 2:  0.7362793\n",
            "val accuracy at epoch 2:  0.66172564\n",
            "test accuracy at epoch 2:  0.65668\n",
            "Train accuracy at epoch 3:  0.88686526\n",
            "val accuracy at epoch 3:  0.8506637\n",
            "test accuracy at epoch 3:  0.84288\n",
            "Train accuracy at epoch 4:  0.93242186\n",
            "val accuracy at epoch 4:  0.8785398\n",
            "test accuracy at epoch 4:  0.86256\n",
            "Train accuracy at epoch 5:  0.9144043\n",
            "val accuracy at epoch 5:  0.8519912\n",
            "test accuracy at epoch 5:  0.828\n",
            "Train accuracy at epoch 6:  0.9577637\n",
            "val accuracy at epoch 6:  0.88318586\n",
            "test accuracy at epoch 6:  0.85616\n",
            "Train accuracy at epoch 7:  0.97265625\n",
            "val accuracy at epoch 7:  0.88893807\n",
            "test accuracy at epoch 7:  0.87192\n",
            "Train accuracy at epoch 8:  0.97939456\n",
            "val accuracy at epoch 8:  0.8909292\n",
            "test accuracy at epoch 8:  0.8712\n",
            "Train accuracy at epoch 9:  0.9579102\n",
            "val accuracy at epoch 9:  0.8570796\n",
            "test accuracy at epoch 9:  0.85228\n",
            "Train accuracy at epoch 10:  0.98525393\n",
            "val accuracy at epoch 10:  0.88716817\n",
            "test accuracy at epoch 10:  0.87208\n",
            "Train accuracy at epoch 11:  0.99018556\n",
            "val accuracy at epoch 11:  0.8915929\n",
            "test accuracy at epoch 11:  0.86988\n",
            "Train accuracy at epoch 12:  0.9916504\n",
            "val accuracy at epoch 12:  0.8823009\n",
            "test accuracy at epoch 12:  0.86576\n",
            "Train accuracy at epoch 13:  0.9898437\n",
            "val accuracy at epoch 13:  0.8767699\n",
            "test accuracy at epoch 13:  0.86016\n",
            "Train accuracy at epoch 14:  0.9947754\n",
            "val accuracy at epoch 14:  0.88318586\n",
            "test accuracy at epoch 14:  0.86288\n",
            "Train accuracy at epoch 15:  0.9969238\n",
            "val accuracy at epoch 15:  0.8847345\n",
            "test accuracy at epoch 15:  0.86276\n",
            "Train accuracy at epoch 16:  0.99731445\n",
            "val accuracy at epoch 16:  0.88495576\n",
            "test accuracy at epoch 16:  0.86048\n"
          ]
        }
      ],
      "source": [
        "# Train model\n",
        "ugrnn_model.fit(train_data, val_data, test_dataset,optimizer, num_epochs=50, \n",
        "                early_stopping_rounds=5, verbose=1, train_from_scratch=True)"
      ]
    },
    {
      "cell_type": "markdown",
      "metadata": {
        "id": "7HloeEKJP7Ub"
      },
      "source": [
        "### Performance comparison\n",
        "---"
      ]
    },
    {
      "cell_type": "code",
      "execution_count": 25,
      "metadata": {
        "colab": {
          "base_uri": "https://localhost:8080/",
          "height": 265
        },
        "id": "LW-exJpxP7Ub",
        "outputId": "576b74f3-c9e3-4727-f193-773738f0e9d8"
      },
      "outputs": [
        {
          "output_type": "display_data",
          "data": {
            "text/plain": [
              "<Figure size 720x288 with 2 Axes>"
            ],
            "image/png": "[encoded data removed]"
          },
          "metadata": {
            "needs_background": "light"
          }
        }
      ],
      "source": [
        "f, (ax1, ax2) = plt.subplots(1, 2, sharey=True, figsize=(10, 4))\n",
        "ax1.plot(range(len(lstm_model.history['train_acc'])), lstm_model.history['train_acc'], \n",
        "         label='LSTM Train Accuracy');\n",
        "ax1.plot(range(len(lstm_model.history['val_acc'])), lstm_model.history['val_acc'], \n",
        "         label='LSTM  Val Accuracy');\n",
        "ax2.plot(range(len(ugrnn_model.history['train_acc'])), ugrnn_model.history['train_acc'],\n",
        "         label='UGRNN Train Accuracy');\n",
        "ax2.plot(range(len(ugrnn_model.history['val_acc'])), ugrnn_model.history['val_acc'],\n",
        "         label='UGRNN Val Accuracy');\n",
        "ax1.legend();\n",
        "ax2.legend();"
      ]
    },
    {
      "cell_type": "code",
      "execution_count": 26,
      "metadata": {
        "colab": {
          "base_uri": "https://localhost:8080/",
          "height": 265
        },
        "id": "16SQbh2KuQAZ",
        "outputId": "669bb655-abf2-4bf9-97a9-453e44646135"
      },
      "outputs": [
        {
          "output_type": "display_data",
          "data": {
            "text/plain": [
              "<Figure size 720x288 with 2 Axes>"
            ],
            "image/png": "[encoded data removed]"
          },
          "metadata": {
            "needs_background": "light"
          }
        }
      ],
      "source": [
        "f, (ax1, ax2) = plt.subplots(1, 2, sharey=True, figsize=(10, 4))\n",
        "ax1.plot(range(len(lstm_model.history['test_acc'])), lstm_model.history['test_acc'], \n",
        "         label='LSTM Test Accuracy');\n",
        "ax1.plot(range(len(lstm_model.history['val_acc'])), lstm_model.history['val_acc'], \n",
        "         label='LSTM  Val Accuracy');\n",
        "ax2.plot(range(len(ugrnn_model.history['test_acc'])), ugrnn_model.history['test_acc'],\n",
        "         label='UGRNN Test Accuracy');\n",
        "ax2.plot(range(len(ugrnn_model.history['val_acc'])), ugrnn_model.history['val_acc'],\n",
        "         label='UGRNN Val Accuracy');\n",
        "ax1.legend();\n",
        "ax2.legend();"
      ]
    },
    {
      "cell_type": "markdown",
      "metadata": {
        "id": "4huskvVjWJy-"
      },
      "source": [
        "As we can see that LSTM performed better thaan UGRNN, so I am going to take that as my baseline model and perform hyperparameter tuning."
      ]
    },
    {
      "cell_type": "markdown",
      "metadata": {
        "id": "0RS5R22tWWgW"
      },
      "source": [
        "Having Gradient Descent Optimzer and changing learning rate to 0.002"
      ]
    },
    {
      "cell_type": "code",
      "execution_count": 52,
      "metadata": {
        "id": "xT-ZQb1XEcYy"
      },
      "outputs": [],
      "source": [
        "class RNNModel(tf.keras.Model):\n",
        "    def __init__(self, embedding_size=100, cell_size=64, dense_size=128, \n",
        "                 num_classes=2, vocabulary_size=None, rnn_cell='lstm',\n",
        "                 device='cpu:0', checkpoint_directory=None):\n",
        "        ''' Define the parameterized layers used during forward-pass, the device\n",
        "            where you would like to run the computation on and the checkpoint\n",
        "            directory. Additionaly, you can also modify the default size of the \n",
        "            network.\n",
        "            \n",
        "            Args:\n",
        "                embedding_size: the size of the word embedding.\n",
        "                cell_size: RNN cell size.\n",
        "                dense_size: the size of the dense layer.\n",
        "                num_classes: the number of labels in the network.\n",
        "                vocabulary_size: the size of the word vocabulary.\n",
        "                rnn_cell: string, either 'lstm' or 'ugrnn'.\n",
        "                device: string, 'cpu:n' or 'gpu:n' (n can vary). Default, 'cpu:0'.\n",
        "                checkpoint_directory: the directory where you would like to save or \n",
        "                                      restore a model.\n",
        "        '''\n",
        "        super(RNNModel, self).__init__()\n",
        "        \n",
        "        # Weights initializer function\n",
        "        w_initializer = tf.compat.v1.keras.initializers.glorot_uniform()\n",
        "    \n",
        "        # Biases initializer function\n",
        "        b_initializer = tf.zeros_initializer()\n",
        "        \n",
        "        # Initialize weights for word embeddings \n",
        "        self.embeddings = tf.keras.layers.Embedding(vocabulary_size, embedding_size, \n",
        "                                                    embeddings_initializer=w_initializer)\n",
        "        \n",
        "        # Dense layer initialization\n",
        "        self.dense_layer = tf.keras.layers.Dense(dense_size, activation=tf.nn.relu, \n",
        "                                                 kernel_initializer=w_initializer, \n",
        "                                                 bias_initializer=b_initializer)\n",
        "        \n",
        "        # Predictions layer initialization\n",
        "        self.pred_layer = tf.keras.layers.Dense(num_classes, activation=None, \n",
        "                                                kernel_initializer=w_initializer, \n",
        "                                                bias_initializer=b_initializer)\n",
        "        \n",
        "        # Basic LSTM cell\n",
        "        if rnn_cell=='lstm':\n",
        "            self.rnn_cell = tf.compat.v1.nn.rnn_cell.BasicLSTMCell(cell_size)\n",
        "        # Else RNN cell\n",
        "        else:\n",
        "            self.rnn_cell = tf.compat.v1.nn.rnn_cell.BasicRNNCell(cell_size)\n",
        "            \n",
        "        # Define the device \n",
        "        self.device = device\n",
        "        \n",
        "        # Define the checkpoint directory\n",
        "        self.checkpoint_directory = checkpoint_directory\n",
        "        \n",
        "    def predict(self, X, seq_length, is_training):\n",
        "        '''\n",
        "        Predicts the probability of each class, based on the input sample.\n",
        "\n",
        "        Args:\n",
        "            X: 2D tensor of shape (batch_size, time_steps).\n",
        "            seq_length: the length of each sequence in the batch.\n",
        "            is_training: Boolean. Either the network is predicting in\n",
        "                         training mode or not.\n",
        "        '''\n",
        "        \n",
        "        # Get the number of samples within a batch\n",
        "        num_samples = tf.shape(X)[0]\n",
        "\n",
        "        # Initialize LSTM cell state with zeros\n",
        "        state = self.rnn_cell.zero_state(num_samples, dtype=tf.float32)\n",
        "        \n",
        "        # Get the embedding of each word in the sequence\n",
        "        embedded_words = self.embeddings(X)\n",
        "        \n",
        "        # Unstack the embeddings\n",
        "        unstacked_embeddings = tf.unstack(embedded_words, axis=1)\n",
        "        \n",
        "        # Iterate through each timestep and append the predictions\n",
        "        outputs = []\n",
        "        for input_step in unstacked_embeddings:\n",
        "            output, state = self.rnn_cell(input_step, state)\n",
        "            outputs.append(output)\n",
        "            \n",
        "        # Stack outputs to (batch_size, time_steps, cell_size)\n",
        "        outputs = tf.stack(outputs, axis=1)\n",
        "        \n",
        "        # Extract the output of the last time step, of each sample\n",
        "        idxs_last_output = tf.stack([tf.range(num_samples), \n",
        "                                     tf.cast(seq_length-1, tf.int32)], axis=1)\n",
        "        final_output = tf.gather_nd(outputs, idxs_last_output)\n",
        "        \n",
        "        # Add dropout for regularization\n",
        "        #dropped_output = tf.compat.v1.layers.Dropout(final_output, rate=0.3, training=is_training)\n",
        "        \n",
        "        # Pass the last cell state through a dense layer (ReLU activation)\n",
        "        dense = self.dense_layer(final_output)\n",
        "        \n",
        "        # Compute the unnormalized log probabilities\n",
        "        logits = self.pred_layer(dense)\n",
        "        return logits\n",
        "    \n",
        "    def loss_fn(self, X, y, seq_length, is_training):\n",
        "        \"\"\" Defines the loss function used during \n",
        "            training.         \n",
        "        \"\"\"\n",
        "        preds = self.predict(X, seq_length, is_training)\n",
        "        loss = tf.nn.sparse_softmax_cross_entropy_with_logits(labels=y, logits=preds)\n",
        "        return loss\n",
        "    \n",
        "    def grads_fn(self, X, y, seq_length, is_training):\n",
        "        \"\"\" Dynamically computes the gradients of the loss value\n",
        "            with respect to the parameters of the model, in each\n",
        "            forward pass.\n",
        "        \"\"\"\n",
        "        with tf.GradientTape() as tape:\n",
        "            loss = self.loss_fn(X, y, seq_length, is_training)\n",
        "        return tape.gradient(loss, self.variables)\n",
        "    \n",
        "    def restore_model(self):\n",
        "        \"\"\" Function to restore trained model.\n",
        "        \"\"\"\n",
        "        with tf.device(self.device):\n",
        "            # Run the model once to initialize variables\n",
        "            dummy_input = tf.constant(tf.zeros((1,1)))\n",
        "            dummy_length = tf.constant(1, shape=(1,))\n",
        "            dummy_pred = self.predict(dummy_input, dummy_length, False)\n",
        "            # Restore the variables of the model\n",
        "            saver = tf.compat.v1.train.Saver(self.variables)\n",
        "            saver.restore(tf.train.latest_checkpoint\n",
        "                          (self.checkpoint_directory))\n",
        "    \n",
        "    def save_model(self, global_step=0):\n",
        "        \"\"\" Function to save trained model.\n",
        "        \"\"\"\n",
        "        tf.compat.v1.train.Saver(self.variables).save(save_path=self.checkpoint_directory, \n",
        "                                       global_step=global_step)   \n",
        "        \n",
        "    def fit(self, training_data, eval_data, test_dataset, optimizer, num_epochs=500, \n",
        "            early_stopping_rounds=10, verbose=10, train_from_scratch=False):\n",
        "        \"\"\" Function to train the model, using the selected optimizer and\n",
        "            for the desired number of epochs. You can either train from scratch\n",
        "            or load the latest model trained. Early stopping is used in order to\n",
        "            mitigate the risk of overfitting the network.\n",
        "            \n",
        "            Args:\n",
        "                training_data: the data you would like to train the model on.\n",
        "                                Must be in the tf.data.Dataset format.\n",
        "                eval_data: the data you would like to evaluate the model on.\n",
        "                            Must be in the tf.data.Dataset format.\n",
        "                optimizer: the optimizer used during training.\n",
        "                num_epochs: the maximum number of iterations you would like to \n",
        "                            train the model.\n",
        "                early_stopping_rounds: stop training if the accuracy on the eval \n",
        "                                       dataset does not increase after n epochs.\n",
        "                verbose: int. Specify how often to print the loss value of the network.\n",
        "                train_from_scratch: boolean. Whether to initialize variables of the\n",
        "                                    the last trained model or initialize them\n",
        "                                    randomly.\n",
        "        \"\"\" \n",
        "    \n",
        "        if train_from_scratch==False:\n",
        "            self.restore_model()\n",
        "        \n",
        "        # Initialize best_acc. This variable will store the highest accuracy\n",
        "        # on the eval dataset.\n",
        "        best_acc = 0\n",
        "        \n",
        "        # Initialize classes to update the mean accuracy of train and eval\n",
        "        train_acc = tf.keras.metrics.Accuracy('train_acc')\n",
        "        test_acc = tf.keras.metrics.Accuracy('test_acc')\n",
        "        val_acc = tf.keras.metrics.Accuracy('val_acc')\n",
        "        \n",
        "        # Initialize dictionary to store the accuracy history\n",
        "        self.history = {}\n",
        "        self.history['train_acc'] = []\n",
        "        self.history['eval_acc'] = []\n",
        "        self.history['val_acc'] = []\n",
        "        self.history['test_acc'] =[]\n",
        "        # Begin training\n",
        "        with tf.device(self.device):\n",
        "            for i in range(num_epochs):\n",
        "                # Training with gradient descent\n",
        "                for step, (X, y, seq_length) in enumerate(train_data):\n",
        "                    grads = self.grads_fn(X, y, seq_length, True)\n",
        "                    optimizer.apply_gradients(zip(grads, self.variables))\n",
        "                    \n",
        "                # Check accuracy train dataset\n",
        "                for step, (X, y, seq_length) in enumerate(train_data):\n",
        "                    logits = self.predict(X, seq_length, False)\n",
        "                    preds = tf.argmax(logits, axis=1)\n",
        "                    train_acc(preds, y)\n",
        "                self.history['train_acc'].append(train_acc.result().numpy())\n",
        "                # Reset metrics\n",
        "                train_acc.reset_states()\n",
        "\n",
        "                # Check accuracy val dataset\n",
        "                for step, (X, y, seq_length) in enumerate(val_data):\n",
        "                    logits = self.predict(X, seq_length, False)\n",
        "                    preds = tf.argmax(logits, axis=1)\n",
        "                    val_acc(preds, y)\n",
        "                self.history['val_acc'].append(val_acc.result().numpy())\n",
        "                # Reset metrics\n",
        "                val_acc.reset_states()\n",
        "                # Check accuracy train dataset\n",
        "                for step, (X, y, seq_length) in enumerate(test_dataset):\n",
        "                    logits = self.predict(X, seq_length, False)\n",
        "                    preds = tf.argmax(logits, axis=1)\n",
        "                    test_acc(preds, y)\n",
        "                self.history['test_acc'].append(test_acc.result().numpy())\n",
        "                # Reset metrics\n",
        "                test_acc.reset_states()\n",
        "\n",
        "                \n",
        "                # Print train and eval accuracy\n",
        "                if (i==0) | ((i+1)%verbose==0):\n",
        "                    print('Train accuracy at epoch %d: ' %(i+1), self.history['train_acc'][-1])\n",
        "                    print('val accuracy at epoch %d: ' %(i+1), self.history['val_acc'][-1])\n",
        "                    print('test accuracy at epoch %d: ' %(i+1), self.history['test_acc'][-1])\n",
        "\n",
        "                # Check for early stopping\n",
        "                if self.history['val_acc'][-1]>best_acc:\n",
        "                    best_acc = self.history['val_acc'][-1]\n",
        "                    count = early_stopping_rounds\n",
        "                else:\n",
        "                    count -= 1\n",
        "                if count==0:\n",
        "                    break  "
      ]
    },
    {
      "cell_type": "code",
      "execution_count": 29,
      "metadata": {
        "colab": {
          "base_uri": "https://localhost:8080/"
        },
        "id": "Ako-0MtbE5CS",
        "outputId": "1f2cd7ad-de38-4def-92dc-e033bd52ed2c"
      },
      "outputs": [
        {
          "output_type": "stream",
          "name": "stdout",
          "text": [
            "WARNING:tensorflow:<keras.layers.legacy_rnn.rnn_cell_impl.BasicLSTMCell object at 0x7f268ea69750>: Note that this cell is not optimized for performance. Please use tf.contrib.cudnn_rnn.CudnnLSTM for better performance on GPU.\n"
          ]
        },
        {
          "output_type": "stream",
          "name": "stderr",
          "text": [
            "/usr/local/lib/python3.7/dist-packages/ipykernel_launcher.py:45: UserWarning: `tf.nn.rnn_cell.BasicLSTMCell` is deprecated and will be removed in a future version. This class is equivalent as `tf.keras.layers.LSTMCell`, and will be replaced by that in Tensorflow 2.0.\n"
          ]
        }
      ],
      "source": [
        "# Specify the path where you want to save/restore the trained variables.\n",
        "checkpoint_directory = 'models_checkpoints/ImdbRNN/'\n",
        "\n",
        "# Use the GPU if available.\n",
        "device = 'gpu:0'\n",
        "\n",
        "# Define optimizer.\n",
        "optimizer = tf.compat.v1.train.GradientDescentOptimizer(learning_rate=2e-3)\n",
        "\n",
        "# Instantiate model. This doesn't initialize the variables yet.\n",
        "lstm_model = RNNModel(vocabulary_size=len(word2idx), device=device, \n",
        "                      checkpoint_directory=checkpoint_directory)"
      ]
    },
    {
      "cell_type": "code",
      "execution_count": 30,
      "metadata": {
        "colab": {
          "base_uri": "https://localhost:8080/"
        },
        "id": "V0dtwaMFE94e",
        "outputId": "7cd1a7a8-37d9-44e1-cfa0-57d7ab2be442"
      },
      "outputs": [
        {
          "output_type": "stream",
          "name": "stderr",
          "text": [
            "/usr/local/lib/python3.7/dist-packages/keras/layers/legacy_rnn/rnn_cell_impl.py:756: UserWarning: `layer.add_variable` is deprecated and will be removed in a future version. Please use `layer.add_weight` method instead.\n",
            "  shape=[input_depth + h_depth, 4 * self._num_units])\n",
            "/usr/local/lib/python3.7/dist-packages/keras/layers/legacy_rnn/rnn_cell_impl.py:760: UserWarning: `layer.add_variable` is deprecated and will be removed in a future version. Please use `layer.add_weight` method instead.\n",
            "  initializer=tf.compat.v1.zeros_initializer(dtype=self.dtype))\n"
          ]
        },
        {
          "output_type": "stream",
          "name": "stdout",
          "text": [
            "Train accuracy at epoch 1:  0.4980957\n",
            "val accuracy at epoch 1:  0.5086283\n",
            "test accuracy at epoch 1:  0.5\n",
            "Train accuracy at epoch 2:  0.4980957\n",
            "val accuracy at epoch 2:  0.5086283\n",
            "test accuracy at epoch 2:  0.5\n",
            "Train accuracy at epoch 3:  0.4980957\n",
            "val accuracy at epoch 3:  0.5086283\n",
            "test accuracy at epoch 3:  0.5\n",
            "Train accuracy at epoch 4:  0.4980957\n",
            "val accuracy at epoch 4:  0.5086283\n",
            "test accuracy at epoch 4:  0.5\n",
            "Train accuracy at epoch 5:  0.4980957\n",
            "val accuracy at epoch 5:  0.5086283\n",
            "test accuracy at epoch 5:  0.5\n",
            "Train accuracy at epoch 6:  0.4980957\n",
            "val accuracy at epoch 6:  0.5086283\n",
            "test accuracy at epoch 6:  0.5\n"
          ]
        }
      ],
      "source": [
        "# Train model\n",
        "lstm_model.fit(train_data, val_data, test_dataset, optimizer, num_epochs=10, \n",
        "                early_stopping_rounds=5, verbose=1, train_from_scratch=True)"
      ]
    },
    {
      "cell_type": "code",
      "execution_count": null,
      "metadata": {
        "id": "a-G9lyJdXr6s"
      },
      "outputs": [],
      "source": [
        ""
      ]
    },
    {
      "cell_type": "code",
      "execution_count": 31,
      "metadata": {
        "id": "zrRUqo2qFDQt"
      },
      "outputs": [],
      "source": [
        "#lstm_model.save_model()\n",
        "checkpoint = tf.train.Checkpoint(lstm_model)\n",
        "save_path = checkpoint.save(checkpoint_directory)"
      ]
    },
    {
      "cell_type": "code",
      "execution_count": 32,
      "metadata": {
        "id": "ptgw334GFP8d",
        "colab": {
          "base_uri": "https://localhost:8080/",
          "height": 265
        },
        "outputId": "5b6b26d1-279b-4703-e9c3-300089de4064"
      },
      "outputs": [
        {
          "output_type": "display_data",
          "data": {
            "text/plain": [
              "<Figure size 720x288 with 1 Axes>"
            ],
            "image/png": "[encoded data removed]"
          },
          "metadata": {
            "needs_background": "light"
          }
        }
      ],
      "source": [
        "f, (ax1) = plt.subplots(1,sharey=True, figsize=(10, 4))\n",
        "ax1.plot(range(len(lstm_model.history['train_acc'])), lstm_model.history['train_acc'], \n",
        "         label='LSTM Train Accuracy');\n",
        "ax1.plot(range(len(lstm_model.history['val_acc'])), lstm_model.history['val_acc'], \n",
        "         label='LSTM  Val Accuracy');\n",
        "#ax2.plot(range(len(ugrnn_model.history['train_acc'])), ugrnn_model.history['train_acc'],\n",
        "        # label='UGRNN Train Accuracy');\n",
        "#ax2.plot(range(len(ugrnn_model.history['val_acc'])), ugrnn_model.history['val_acc'],\n",
        "         #label='UGRNN Val Accuracy');\n",
        "ax1.legend();\n",
        "#ax2.legend();"
      ]
    },
    {
      "cell_type": "code",
      "execution_count": 33,
      "metadata": {
        "colab": {
          "base_uri": "https://localhost:8080/",
          "height": 265
        },
        "id": "nizmnmg1FTp1",
        "outputId": "0369d73a-84f8-409e-ad85-764e2d6c528b"
      },
      "outputs": [
        {
          "output_type": "display_data",
          "data": {
            "text/plain": [
              "<Figure size 720x288 with 1 Axes>"
            ],
            "image/png": "[encoded data removed]"
          },
          "metadata": {
            "needs_background": "light"
          }
        }
      ],
      "source": [
        "f, (ax1) = plt.subplots(1, sharey=True, figsize=(10, 4))\n",
        "ax1.plot(range(len(lstm_model.history['test_acc'])), lstm_model.history['test_acc'], \n",
        "         label='LSTM Test Accuracy');\n",
        "ax1.plot(range(len(lstm_model.history['val_acc'])), lstm_model.history['val_acc'], \n",
        "         label='LSTM  Val Accuracy');\n",
        "'''\n",
        "ax2.plot(range(len(ugrnn_model.history['test_acc'])), ugrnn_model.history['test_acc'],\n",
        "        label='UGRNN Test Accuracy');\n",
        "ax2.plot(range(len(ugrnn_model.history['val_acc'])), ugrnn_model.history['val_acc'],\n",
        "\n",
        "         label='UGRNN Val Accuracy');\n",
        "'''\n",
        "ax1.legend();\n",
        "#ax2.legend();"
      ]
    },
    {
      "cell_type": "markdown",
      "metadata": {
        "id": "3YqRieU_XFee"
      },
      "source": [
        "Clearly, changing the Optimizer from Adam to Gradientdecent resulted in the poor performance of the model.\n",
        "\n",
        "Therefore, I have changed the optimizer to Adagrad, while keeping the learning rate same that is 0.00001"
      ]
    },
    {
      "cell_type": "code",
      "execution_count": 34,
      "metadata": {
        "colab": {
          "base_uri": "https://localhost:8080/"
        },
        "id": "TIHEOqipXE09",
        "outputId": "731a068e-3c12-4e4a-e660-99bb00266d7f"
      },
      "outputs": [
        {
          "output_type": "stream",
          "name": "stdout",
          "text": [
            "WARNING:tensorflow:<keras.layers.legacy_rnn.rnn_cell_impl.BasicLSTMCell object at 0x7f26a42c3d90>: Note that this cell is not optimized for performance. Please use tf.contrib.cudnn_rnn.CudnnLSTM for better performance on GPU.\n"
          ]
        },
        {
          "output_type": "stream",
          "name": "stderr",
          "text": [
            "/usr/local/lib/python3.7/dist-packages/ipykernel_launcher.py:45: UserWarning: `tf.nn.rnn_cell.BasicLSTMCell` is deprecated and will be removed in a future version. This class is equivalent as `tf.keras.layers.LSTMCell`, and will be replaced by that in Tensorflow 2.0.\n"
          ]
        }
      ],
      "source": [
        "# Specify the path where you want to save/restore the trained variables.\n",
        "checkpoint_directory = 'models_checkpoints/ImdbRNN/'\n",
        "\n",
        "# Use the GPU if available.\n",
        "device = 'gpu:0'\n",
        "\n",
        "# Define optimizer.\n",
        "optimizer = tf.compat.v1.train.AdagradOptimizer(learning_rate=1e-4)\n",
        "\n",
        "# Instantiate model. This doesn't initialize the variables yet.\n",
        "lstm_model = RNNModel(vocabulary_size=len(word2idx), device=device, \n",
        "                      checkpoint_directory=checkpoint_directory)"
      ]
    },
    {
      "cell_type": "code",
      "execution_count": 35,
      "metadata": {
        "colab": {
          "base_uri": "https://localhost:8080/"
        },
        "id": "hl0BuzBAXs5z",
        "outputId": "c079f064-ee72-472a-dd1d-44b3b222b34f"
      },
      "outputs": [
        {
          "output_type": "stream",
          "name": "stderr",
          "text": [
            "/usr/local/lib/python3.7/dist-packages/keras/layers/legacy_rnn/rnn_cell_impl.py:756: UserWarning: `layer.add_variable` is deprecated and will be removed in a future version. Please use `layer.add_weight` method instead.\n",
            "  shape=[input_depth + h_depth, 4 * self._num_units])\n",
            "/usr/local/lib/python3.7/dist-packages/keras/layers/legacy_rnn/rnn_cell_impl.py:760: UserWarning: `layer.add_variable` is deprecated and will be removed in a future version. Please use `layer.add_weight` method instead.\n",
            "  initializer=tf.compat.v1.zeros_initializer(dtype=self.dtype))\n"
          ]
        },
        {
          "output_type": "stream",
          "name": "stdout",
          "text": [
            "Train accuracy at epoch 1:  0.5433594\n",
            "val accuracy at epoch 1:  0.55088496\n",
            "test accuracy at epoch 1:  0.53476\n",
            "Train accuracy at epoch 2:  0.55185544\n",
            "val accuracy at epoch 2:  0.55\n",
            "test accuracy at epoch 2:  0.54068\n",
            "Train accuracy at epoch 3:  0.5523926\n",
            "val accuracy at epoch 3:  0.5550885\n",
            "test accuracy at epoch 3:  0.5444\n",
            "Train accuracy at epoch 4:  0.55498046\n",
            "val accuracy at epoch 4:  0.5535398\n",
            "test accuracy at epoch 4:  0.54652\n",
            "Train accuracy at epoch 5:  0.5574707\n",
            "val accuracy at epoch 5:  0.5599558\n",
            "test accuracy at epoch 5:  0.54936\n",
            "Train accuracy at epoch 6:  0.5628418\n",
            "val accuracy at epoch 6:  0.5679203\n",
            "test accuracy at epoch 6:  0.55424\n",
            "Train accuracy at epoch 7:  0.5672363\n",
            "val accuracy at epoch 7:  0.5710177\n",
            "test accuracy at epoch 7:  0.55964\n",
            "Train accuracy at epoch 8:  0.5734863\n",
            "val accuracy at epoch 8:  0.57986724\n",
            "test accuracy at epoch 8:  0.56532\n",
            "Train accuracy at epoch 9:  0.5800781\n",
            "val accuracy at epoch 9:  0.5834071\n",
            "test accuracy at epoch 9:  0.57024\n",
            "Train accuracy at epoch 10:  0.58505857\n",
            "val accuracy at epoch 10:  0.59225667\n",
            "test accuracy at epoch 10:  0.57508\n"
          ]
        }
      ],
      "source": [
        "# Train model\n",
        "lstm_model.fit(train_data, val_data, test_dataset, optimizer, num_epochs=10, \n",
        "                early_stopping_rounds=5, verbose=1, train_from_scratch=True)"
      ]
    },
    {
      "cell_type": "code",
      "execution_count": 36,
      "metadata": {
        "id": "leo7xUCkXwGI"
      },
      "outputs": [],
      "source": [
        "#lstm_model.save_model()\n",
        "checkpoint = tf.train.Checkpoint(lstm_model)\n",
        "save_path = checkpoint.save(checkpoint_directory)"
      ]
    },
    {
      "cell_type": "code",
      "execution_count": 37,
      "metadata": {
        "id": "8HAWsm9UXyFx",
        "colab": {
          "base_uri": "https://localhost:8080/",
          "height": 265
        },
        "outputId": "3eb2fba1-7954-438e-d1ad-ec503b203af1"
      },
      "outputs": [
        {
          "output_type": "display_data",
          "data": {
            "text/plain": [
              "<Figure size 720x288 with 1 Axes>"
            ],
            "image/png": "[encoded data removed]"
          },
          "metadata": {
            "needs_background": "light"
          }
        }
      ],
      "source": [
        "f, (ax1) = plt.subplots(1,sharey=True, figsize=(10, 4))\n",
        "ax1.plot(range(len(lstm_model.history['train_acc'])), lstm_model.history['train_acc'], \n",
        "         label='LSTM Train Accuracy');\n",
        "ax1.plot(range(len(lstm_model.history['val_acc'])), lstm_model.history['val_acc'], \n",
        "         label='LSTM  Val Accuracy');\n",
        "#ax2.plot(range(len(ugrnn_model.history['train_acc'])), ugrnn_model.history['train_acc'],\n",
        "        # label='UGRNN Train Accuracy');\n",
        "#ax2.plot(range(len(ugrnn_model.history['val_acc'])), ugrnn_model.history['val_acc'],\n",
        "         #label='UGRNN Val Accuracy');\n",
        "ax1.legend();\n",
        "#ax2.legend();"
      ]
    },
    {
      "cell_type": "code",
      "execution_count": 38,
      "metadata": {
        "id": "SvhK74PdX0xK",
        "colab": {
          "base_uri": "https://localhost:8080/",
          "height": 265
        },
        "outputId": "de2e0842-96d2-4d83-bddc-36367243aa77"
      },
      "outputs": [
        {
          "output_type": "display_data",
          "data": {
            "text/plain": [
              "<Figure size 720x288 with 1 Axes>"
            ],
            "image/png": "[encoded data removed]"
          },
          "metadata": {
            "needs_background": "light"
          }
        }
      ],
      "source": [
        "f, (ax1) = plt.subplots(1, sharey=True, figsize=(10, 4))\n",
        "ax1.plot(range(len(lstm_model.history['test_acc'])), lstm_model.history['test_acc'], \n",
        "         label='LSTM Test Accuracy');\n",
        "ax1.plot(range(len(lstm_model.history['val_acc'])), lstm_model.history['val_acc'], \n",
        "         label='LSTM  Val Accuracy');\n",
        "'''\n",
        "ax2.plot(range(len(ugrnn_model.history['test_acc'])), ugrnn_model.history['test_acc'],\n",
        "        label='UGRNN Test Accuracy');\n",
        "ax2.plot(range(len(ugrnn_model.history['val_acc'])), ugrnn_model.history['val_acc'],\n",
        "\n",
        "         label='UGRNN Val Accuracy');\n",
        "'''\n",
        "ax1.legend();\n",
        "#ax2.legend();"
      ]
    },
    {
      "cell_type": "markdown",
      "source": [
        "Since, Both the gradient descent optimizer and Adagrad performed poorly as compared to the Adam, so we are going to keep adam and try to change the learning rate, I will decrease the learning rate to 0.0002"
      ],
      "metadata": {
        "id": "cZhVADI-OlLX"
      }
    },
    {
      "cell_type": "code",
      "source": [
        "# Specify the path where you want to save/restore the trained variables.\n",
        "checkpoint_directory = 'models_checkpoints/ImdbRNN/'\n",
        "\n",
        "# Use the GPU if available.\n",
        "device = 'gpu:0'\n",
        "\n",
        "# Define optimizer.\n",
        "optimizer = tf.compat.v1.train.AdamOptimizer(learning_rate=2e-4)\n",
        "\n",
        "# Instantiate model. This doesn't initialize the variables yet.\n",
        "lstm_model = RNNModel(vocabulary_size=len(word2idx), device=device, \n",
        "                      checkpoint_directory=checkpoint_directory)"
      ],
      "metadata": {
        "colab": {
          "base_uri": "https://localhost:8080/"
        },
        "id": "Bx-jbA5-OkqG",
        "outputId": "0c349673-dfa1-46db-a4c6-dafb7c1153dd"
      },
      "execution_count": 39,
      "outputs": [
        {
          "output_type": "stream",
          "name": "stdout",
          "text": [
            "WARNING:tensorflow:<keras.layers.legacy_rnn.rnn_cell_impl.BasicLSTMCell object at 0x7f268eb5e8d0>: Note that this cell is not optimized for performance. Please use tf.contrib.cudnn_rnn.CudnnLSTM for better performance on GPU.\n"
          ]
        },
        {
          "output_type": "stream",
          "name": "stderr",
          "text": [
            "/usr/local/lib/python3.7/dist-packages/ipykernel_launcher.py:45: UserWarning: `tf.nn.rnn_cell.BasicLSTMCell` is deprecated and will be removed in a future version. This class is equivalent as `tf.keras.layers.LSTMCell`, and will be replaced by that in Tensorflow 2.0.\n"
          ]
        }
      ]
    },
    {
      "cell_type": "code",
      "source": [
        "# Train model\n",
        "lstm_model.fit(train_data, val_data, test_dataset, optimizer, num_epochs=10, \n",
        "                early_stopping_rounds=5, verbose=1, train_from_scratch=True)"
      ],
      "metadata": {
        "colab": {
          "base_uri": "https://localhost:8080/"
        },
        "id": "_mTY01-9O9a9",
        "outputId": "1c7df9d6-9b1d-4d55-ac2e-084bd270a3fa"
      },
      "execution_count": 40,
      "outputs": [
        {
          "output_type": "stream",
          "name": "stderr",
          "text": [
            "/usr/local/lib/python3.7/dist-packages/keras/layers/legacy_rnn/rnn_cell_impl.py:756: UserWarning: `layer.add_variable` is deprecated and will be removed in a future version. Please use `layer.add_weight` method instead.\n",
            "  shape=[input_depth + h_depth, 4 * self._num_units])\n",
            "/usr/local/lib/python3.7/dist-packages/keras/layers/legacy_rnn/rnn_cell_impl.py:760: UserWarning: `layer.add_variable` is deprecated and will be removed in a future version. Please use `layer.add_weight` method instead.\n",
            "  initializer=tf.compat.v1.zeros_initializer(dtype=self.dtype))\n"
          ]
        },
        {
          "output_type": "stream",
          "name": "stdout",
          "text": [
            "Train accuracy at epoch 1:  0.81992185\n",
            "val accuracy at epoch 1:  0.789823\n",
            "test accuracy at epoch 1:  0.78724\n",
            "Train accuracy at epoch 2:  0.8952637\n",
            "val accuracy at epoch 2:  0.8528761\n",
            "test accuracy at epoch 2:  0.84032\n",
            "Train accuracy at epoch 3:  0.93422854\n",
            "val accuracy at epoch 3:  0.88030976\n",
            "test accuracy at epoch 3:  0.86924\n",
            "Train accuracy at epoch 4:  0.9627441\n",
            "val accuracy at epoch 4:  0.88893807\n",
            "test accuracy at epoch 4:  0.87488\n",
            "Train accuracy at epoch 5:  0.9765625\n",
            "val accuracy at epoch 5:  0.8940266\n",
            "test accuracy at epoch 5:  0.87964\n",
            "Train accuracy at epoch 6:  0.9698242\n",
            "val accuracy at epoch 6:  0.8829646\n",
            "test accuracy at epoch 6:  0.86984\n",
            "Train accuracy at epoch 7:  0.98481447\n",
            "val accuracy at epoch 7:  0.88495576\n",
            "test accuracy at epoch 7:  0.85932\n",
            "Train accuracy at epoch 8:  0.9586914\n",
            "val accuracy at epoch 8:  0.8581858\n",
            "test accuracy at epoch 8:  0.8194\n",
            "Train accuracy at epoch 9:  0.9845215\n",
            "val accuracy at epoch 9:  0.884292\n",
            "test accuracy at epoch 9:  0.85592\n",
            "Train accuracy at epoch 10:  0.97402346\n",
            "val accuracy at epoch 10:  0.88053095\n",
            "test accuracy at epoch 10:  0.85936\n"
          ]
        }
      ]
    },
    {
      "cell_type": "markdown",
      "source": [
        ""
      ],
      "metadata": {
        "id": "BQoEbV5f_Psz"
      }
    },
    {
      "cell_type": "code",
      "source": [
        "f, (ax1) = plt.subplots(1,sharey=True, figsize=(10, 4))\n",
        "ax1.plot(range(len(lstm_model.history['train_acc'])), lstm_model.history['train_acc'], \n",
        "         label='LSTM Train Accuracy');\n",
        "ax1.plot(range(len(lstm_model.history['val_acc'])), lstm_model.history['val_acc'], \n",
        "         label='LSTM  Val Accuracy');\n",
        "#ax2.plot(range(len(ugrnn_model.history['train_acc'])), ugrnn_model.history['train_acc'],\n",
        "        # label='UGRNN Train Accuracy');\n",
        "#ax2.plot(range(len(ugrnn_model.history['val_acc'])), ugrnn_model.history['val_acc'],\n",
        "         #label='UGRNN Val Accuracy');\n",
        "ax1.legend();\n",
        "#ax2.legend();"
      ],
      "metadata": {
        "colab": {
          "base_uri": "https://localhost:8080/",
          "height": 265
        },
        "id": "oqduPfTMPAQ0",
        "outputId": "cb4a04f1-a52c-4a96-e762-ad23f9875cd0"
      },
      "execution_count": 41,
      "outputs": [
        {
          "output_type": "display_data",
          "data": {
            "text/plain": [
              "<Figure size 720x288 with 1 Axes>"
            ],
            "image/png": "[encoded data removed]"
          },
          "metadata": {
            "needs_background": "light"
          }
        }
      ]
    },
    {
      "cell_type": "code",
      "source": [
        "f, (ax1) = plt.subplots(1, sharey=True, figsize=(10, 4))\n",
        "ax1.plot(range(len(lstm_model.history['test_acc'])), lstm_model.history['test_acc'], \n",
        "         label='LSTM Test Accuracy');\n",
        "ax1.plot(range(len(lstm_model.history['val_acc'])), lstm_model.history['val_acc'], \n",
        "         label='LSTM  Val Accuracy');\n",
        "'''\n",
        "ax2.plot(range(len(ugrnn_model.history['test_acc'])), ugrnn_model.history['test_acc'],\n",
        "        label='UGRNN Test Accuracy');\n",
        "ax2.plot(range(len(ugrnn_model.history['val_acc'])), ugrnn_model.history['val_acc'],\n",
        "\n",
        "         label='UGRNN Val Accuracy');\n",
        "'''\n",
        "ax1.legend();\n",
        "#ax2.legend();"
      ],
      "metadata": {
        "colab": {
          "base_uri": "https://localhost:8080/",
          "height": 265
        },
        "id": "ScuLilXCPGqu",
        "outputId": "8a2b0fff-60f7-4200-cbe7-c6a261b70e13"
      },
      "execution_count": 42,
      "outputs": [
        {
          "output_type": "display_data",
          "data": {
            "text/plain": [
              "<Figure size 720x288 with 1 Axes>"
            ],
            "image/png": "[encoded data removed]"
          },
          "metadata": {
            "needs_background": "light"
          }
        }
      ]
    },
    {
      "cell_type": "markdown",
      "source": [
        "It resulted in a little decrease in the accuracy, so I will try to use lr as 0.0003"
      ],
      "metadata": {
        "id": "2ZYGl8Rk_RqX"
      }
    },
    {
      "cell_type": "code",
      "source": [
        "# Specify the path where you want to save/restore the trained variables.\n",
        "checkpoint_directory = 'models_checkpoints/ImdbRNN/'\n",
        "\n",
        "# Use the GPU if available.\n",
        "device = 'gpu:0'\n",
        "\n",
        "# Define optimizer.\n",
        "optimizer = tf.compat.v1.train.AdamOptimizer(learning_rate=3e-4)\n",
        "\n",
        "# Instantiate model. This doesn't initialize the variables yet.\n",
        "lstm_model = RNNModel(vocabulary_size=len(word2idx), device=device, \n",
        "                      checkpoint_directory=checkpoint_directory)"
      ],
      "metadata": {
        "colab": {
          "base_uri": "https://localhost:8080/"
        },
        "id": "v53YEeMH_Q10",
        "outputId": "59965596-3530-4586-9bf4-6f6958bf8444"
      },
      "execution_count": 43,
      "outputs": [
        {
          "output_type": "stream",
          "name": "stdout",
          "text": [
            "WARNING:tensorflow:<keras.layers.legacy_rnn.rnn_cell_impl.BasicLSTMCell object at 0x7f268ea3dc50>: Note that this cell is not optimized for performance. Please use tf.contrib.cudnn_rnn.CudnnLSTM for better performance on GPU.\n"
          ]
        },
        {
          "output_type": "stream",
          "name": "stderr",
          "text": [
            "/usr/local/lib/python3.7/dist-packages/ipykernel_launcher.py:45: UserWarning: `tf.nn.rnn_cell.BasicLSTMCell` is deprecated and will be removed in a future version. This class is equivalent as `tf.keras.layers.LSTMCell`, and will be replaced by that in Tensorflow 2.0.\n"
          ]
        }
      ]
    },
    {
      "cell_type": "code",
      "source": [
        "# Train model\n",
        "lstm_model.fit(train_data, val_data, test_dataset, optimizer, num_epochs=10, \n",
        "                early_stopping_rounds=5, verbose=1, train_from_scratch=True)"
      ],
      "metadata": {
        "colab": {
          "base_uri": "https://localhost:8080/"
        },
        "id": "9SAqJzV6_7vq",
        "outputId": "ef99d789-a37b-4174-963b-be003562d8c9"
      },
      "execution_count": 44,
      "outputs": [
        {
          "output_type": "stream",
          "name": "stderr",
          "text": [
            "/usr/local/lib/python3.7/dist-packages/keras/layers/legacy_rnn/rnn_cell_impl.py:756: UserWarning: `layer.add_variable` is deprecated and will be removed in a future version. Please use `layer.add_weight` method instead.\n",
            "  shape=[input_depth + h_depth, 4 * self._num_units])\n",
            "/usr/local/lib/python3.7/dist-packages/keras/layers/legacy_rnn/rnn_cell_impl.py:760: UserWarning: `layer.add_variable` is deprecated and will be removed in a future version. Please use `layer.add_weight` method instead.\n",
            "  initializer=tf.compat.v1.zeros_initializer(dtype=self.dtype))\n"
          ]
        },
        {
          "output_type": "stream",
          "name": "stdout",
          "text": [
            "Train accuracy at epoch 1:  0.80507815\n",
            "val accuracy at epoch 1:  0.775\n",
            "test accuracy at epoch 1:  0.76664\n",
            "Train accuracy at epoch 2:  0.92348635\n",
            "val accuracy at epoch 2:  0.87876105\n",
            "test accuracy at epoch 2:  0.8694\n",
            "Train accuracy at epoch 3:  0.9590332\n",
            "val accuracy at epoch 3:  0.889823\n",
            "test accuracy at epoch 3:  0.88044\n",
            "Train accuracy at epoch 4:  0.9771484\n",
            "val accuracy at epoch 4:  0.8942478\n",
            "test accuracy at epoch 4:  0.86756\n",
            "Train accuracy at epoch 5:  0.9902832\n",
            "val accuracy at epoch 5:  0.8938053\n",
            "test accuracy at epoch 5:  0.8772\n",
            "Train accuracy at epoch 6:  0.99135745\n",
            "val accuracy at epoch 6:  0.88030976\n",
            "test accuracy at epoch 6:  0.86528\n",
            "Train accuracy at epoch 7:  0.9957031\n",
            "val accuracy at epoch 7:  0.8858407\n",
            "test accuracy at epoch 7:  0.86072\n",
            "Train accuracy at epoch 8:  0.9803711\n",
            "val accuracy at epoch 8:  0.87234515\n",
            "test accuracy at epoch 8:  0.84172\n",
            "Train accuracy at epoch 9:  0.98515624\n",
            "val accuracy at epoch 9:  0.8732301\n",
            "test accuracy at epoch 9:  0.84584\n"
          ]
        }
      ]
    },
    {
      "cell_type": "code",
      "source": [
        "f, (ax1) = plt.subplots(1,sharey=True, figsize=(10, 4))\n",
        "ax1.plot(range(len(lstm_model.history['train_acc'])), lstm_model.history['train_acc'], \n",
        "         label='LSTM Train Accuracy');\n",
        "ax1.plot(range(len(lstm_model.history['val_acc'])), lstm_model.history['val_acc'], \n",
        "         label='LSTM  Val Accuracy');\n",
        "#ax2.plot(range(len(ugrnn_model.history['train_acc'])), ugrnn_model.history['train_acc'],\n",
        "        # label='UGRNN Train Accuracy');\n",
        "#ax2.plot(range(len(ugrnn_model.history['val_acc'])), ugrnn_model.history['val_acc'],\n",
        "         #label='UGRNN Val Accuracy');\n",
        "ax1.legend();\n",
        "#ax2.legend();"
      ],
      "metadata": {
        "colab": {
          "base_uri": "https://localhost:8080/",
          "height": 265
        },
        "id": "ETQSrXfbFwFT",
        "outputId": "f0f7b7ce-074e-49cb-841e-2c6a3de6d7a6"
      },
      "execution_count": 45,
      "outputs": [
        {
          "output_type": "display_data",
          "data": {
            "text/plain": [
              "<Figure size 720x288 with 1 Axes>"
            ],
            "image/png": "[encoded data removed]"
          },
          "metadata": {
            "needs_background": "light"
          }
        }
      ]
    },
    {
      "cell_type": "code",
      "source": [
        ""
      ],
      "metadata": {
        "id": "OwyBbjuoKH4x"
      },
      "execution_count": null,
      "outputs": []
    },
    {
      "cell_type": "markdown",
      "source": [
        "So, I noticed that at certain epoch, we got a good accuracy, So I will be reducing the epochs."
      ],
      "metadata": {
        "id": "5fO5TYOtKIqP"
      }
    },
    {
      "cell_type": "code",
      "source": [
        "# Train model\n",
        "lstm_model.fit(train_data, val_data, test_dataset, optimizer, num_epochs=4, \n",
        "                early_stopping_rounds=5, verbose=1, train_from_scratch=True)"
      ],
      "metadata": {
        "colab": {
          "base_uri": "https://localhost:8080/"
        },
        "id": "miWr4HllF7xX",
        "outputId": "45324e27-f40e-4dfc-ad97-abfb6a21c9d1"
      },
      "execution_count": 49,
      "outputs": [
        {
          "output_type": "stream",
          "name": "stdout",
          "text": [
            "Train accuracy at epoch 1:  0.9760742\n",
            "val accuracy at epoch 1:  0.87588495\n",
            "test accuracy at epoch 1:  0.84528\n",
            "Train accuracy at epoch 2:  0.99067384\n",
            "val accuracy at epoch 2:  0.8869469\n",
            "test accuracy at epoch 2:  0.86724\n",
            "Train accuracy at epoch 3:  0.9904297\n",
            "val accuracy at epoch 3:  0.88030976\n",
            "test accuracy at epoch 3:  0.86008\n",
            "Train accuracy at epoch 4:  0.99746096\n",
            "val accuracy at epoch 4:  0.88606197\n",
            "test accuracy at epoch 4:  0.86172\n"
          ]
        }
      ]
    },
    {
      "cell_type": "code",
      "source": [
        "f, (ax1) = plt.subplots(1,sharey=True, figsize=(10, 4))\n",
        "ax1.plot(range(len(lstm_model.history['train_acc'])), lstm_model.history['train_acc'], \n",
        "         label='LSTM Train Accuracy');\n",
        "ax1.plot(range(len(lstm_model.history['val_acc'])), lstm_model.history['val_acc'], \n",
        "         label='LSTM  Val Accuracy');\n",
        "#ax2.plot(range(len(ugrnn_model.history['train_acc'])), ugrnn_model.history['train_acc'],\n",
        "        # label='UGRNN Train Accuracy');\n",
        "#ax2.plot(range(len(ugrnn_model.history['val_acc'])), ugrnn_model.history['val_acc'],\n",
        "         #label='UGRNN Val Accuracy');\n",
        "ax1.legend();\n",
        "#ax2.legend();"
      ],
      "metadata": {
        "colab": {
          "base_uri": "https://localhost:8080/",
          "height": 265
        },
        "id": "NS4NnLogQpU_",
        "outputId": "7304a109-9d24-459f-b509-18a79b268e1e"
      },
      "execution_count": 50,
      "outputs": [
        {
          "output_type": "display_data",
          "data": {
            "text/plain": [
              "<Figure size 720x288 with 1 Axes>"
            ],
            "image/png": "[encoded data removed]"
          },
          "metadata": {
            "needs_background": "light"
          }
        }
      ]
    },
    {
      "cell_type": "code",
      "source": [
        "f, (ax1) = plt.subplots(1, sharey=True, figsize=(10, 4))\n",
        "ax1.plot(range(len(lstm_model.history['test_acc'])), lstm_model.history['test_acc'], \n",
        "         label='LSTM Test Accuracy');\n",
        "ax1.plot(range(len(lstm_model.history['val_acc'])), lstm_model.history['val_acc'], \n",
        "         label='LSTM  Val Accuracy');\n",
        "'''\n",
        "ax2.plot(range(len(ugrnn_model.history['test_acc'])), ugrnn_model.history['test_acc'],\n",
        "        label='UGRNN Test Accuracy');\n",
        "ax2.plot(range(len(ugrnn_model.history['val_acc'])), ugrnn_model.history['val_acc'],\n",
        "\n",
        "         label='UGRNN Val Accuracy');\n",
        "'''\n",
        "ax1.legend();\n",
        "#ax2.legend();"
      ],
      "metadata": {
        "colab": {
          "base_uri": "https://localhost:8080/",
          "height": 265
        },
        "id": "7jVeUOX2QxiL",
        "outputId": "4825e80c-6f53-4f27-9c2e-40045bd7134b"
      },
      "execution_count": 51,
      "outputs": [
        {
          "output_type": "display_data",
          "data": {
            "text/plain": [
              "<Figure size 720x288 with 1 Axes>"
            ],
            "image/png": "[encoded data removed]"
          },
          "metadata": {
            "needs_background": "light"
          }
        }
      ]
    },
    {
      "cell_type": "markdown",
      "metadata": {
        "id": "XrMkRP-0P7Ub"
      },
      "source": [
        "## Test network on new samples\n",
        "---\n",
        "\n"
      ]
    },
    {
      "cell_type": "code",
      "execution_count": 55,
      "metadata": {
        "id": "nXSOpyz0P7Uc"
      },
      "outputs": [],
      "source": [
        "###############################################################\n",
        "# Import/download necessary libraries to process new sequences\n",
        "###############################################################\n",
        "import nltk\n",
        "try:\n",
        "    nltk.data.find('tokenizers/punkt')\n",
        "except LookupError:\n",
        "    nltk.download('punkt')\n",
        "from nltk.tokenize import word_tokenize\n",
        "import re"
      ]
    },
    {
      "cell_type": "code",
      "execution_count": 56,
      "metadata": {
        "id": "5zDt0vVlP7Uc"
      },
      "outputs": [],
      "source": [
        "def process_new_review(review):\n",
        "    '''Function to process a new review.\n",
        "       Args:\n",
        "           review: original text review, string.\n",
        "       Returns:\n",
        "           indexed_review: sequence of integers, words correspondence \n",
        "                           from word2idx.\n",
        "           seq_length: the length of the review.\n",
        "    '''\n",
        "    indexed_review = re.sub(r'<[^>]+>', ' ', review)\n",
        "    indexed_review = word_tokenize(indexed_review)\n",
        "    indexed_review = [word2idx[word] if word in list(word2idx.keys()) else \n",
        "                      word2idx['Unknown_token'] for word in indexed_review]\n",
        "    indexed_review = indexed_review + [word2idx['End_token']]\n",
        "    seq_length = len(indexed_review)    \n",
        "    return indexed_review, seq_length"
      ]
    },
    {
      "cell_type": "code",
      "execution_count": 57,
      "metadata": {
        "id": "8ZmRTbHCP7Uc"
      },
      "outputs": [],
      "source": [
        "sent_dict = {0: 'negative', 1: 'positive'}"
      ]
    },
    {
      "cell_type": "code",
      "execution_count": 58,
      "metadata": {
        "id": "lo8W4xfdP7Uc"
      },
      "outputs": [],
      "source": [
        "review_score_10 = \"I think Bad Apples is a great time and I recommend! I enjoyed the opening, which gave way for the rest of the movie to occur. The main couple was very likable and I believed all of their interactions. They had great onscreen chemistry and made me laugh quite a few times! Keeping the girls in the masks but seeing them in action was something I loved. It kept a mystery to them throughout. I think the dialogue was great. The kills were fun. And the special surprise gore effect at the end was AWESOME!! I won't spoil that part ;) I also enjoyed how the movie wrapped up. It gave a very urban legends type feel of \\\"did you ever hear the story...\\\". Plus is leaves the door open for another film which I wouldn't mind at all. Long story short, I think if you take the film for what it is; a fun little horror flick, then you won't be disappointed! HaPpY eArLy HaLLoWeEn!\""
      ]
    },
    {
      "cell_type": "code",
      "execution_count": 59,
      "metadata": {
        "id": "jL2PWrzPP7Uc"
      },
      "outputs": [],
      "source": [
        "review_score_4 = \"A young couple comes to a small town, where the husband get a job working in a hospital. The wife which you instantly hate or dislike works home, at the same time a horrible murders takes place in this small town by two masked killers. Bad Apples is just your tipical B-horror movie with average acting (I give them that. Altough you may get the idea that some of the actors are crazy-convervative Christians), but the script is just bad, and that's what destroys the film.\""
      ]
    },
    {
      "cell_type": "code",
      "execution_count": 60,
      "metadata": {
        "id": "dGJG7F6kP7Uc"
      },
      "outputs": [],
      "source": [
        "review_score_1 = \"When you first start watching this movie, you can tell its going to be a painful ride. the audio is poor...the attacks by the \\\"girls\\\" are like going back in time, to watching the old rocky films, were blows never touched. the editing is poor with it aswell, example the actress in is the bath when her husband comes home, clearly you see her wearing a flesh coloured bra in the bath. no hints or spoilers, just wait till you find it in a bargain basket of cheap dvds in a couple of weeks\""
      ]
    },
    {
      "cell_type": "code",
      "execution_count": 61,
      "metadata": {
        "id": "M-hrh4LCP7Ud"
      },
      "outputs": [],
      "source": [
        "new_reviews = [review_score_10, review_score_4, review_score_1]\n",
        "scores = [10, 4, 1]"
      ]
    },
    {
      "cell_type": "code",
      "execution_count": 62,
      "metadata": {
        "colab": {
          "base_uri": "https://localhost:8080/"
        },
        "id": "OvVuzgTwP7Ud",
        "outputId": "4bb323b0-604f-4985-d766-013b6def8d82"
      },
      "outputs": [
        {
          "output_type": "stream",
          "name": "stdout",
          "text": [
            "The sentiment for the review with score 10 was found to be positive\n",
            "The sentiment for the review with score 4 was found to be negative\n",
            "The sentiment for the review with score 1 was found to be negative\n"
          ]
        }
      ],
      "source": [
        "with tf.device(device):\n",
        "    for original_review, score in zip(new_reviews, scores):\n",
        "        indexed_review, seq_length = process_new_review(original_review)\n",
        "        indexed_review = tf.reshape(tf.constant(indexed_review), (1,-1))\n",
        "        seq_length = tf.reshape(tf.constant(seq_length), (1,))\n",
        "        logits = lstm_model.predict(indexed_review, seq_length, False)\n",
        "        pred = tf.argmax(logits, axis=1).numpy()[0]\n",
        "        print('The sentiment for the review with score %d was found to be %s'\n",
        "              %(score, sent_dict[pred]))"
      ]
    }
  ],
  "metadata": {
    "accelerator": "GPU",
    "colab": {
      "name": "Copy_of_IST597_SP22_RNN.ipynb",
      "provenance": [],
      "collapsed_sections": []
    },
    "kernelspec": {
      "display_name": "Python 3",
      "language": "python",
      "name": "python3"
    },
    "language_info": {
      "codemirror_mode": {
        "name": "ipython",
        "version": 3
      },
      "file_extension": ".py",
      "mimetype": "text/x-python",
      "name": "python",
      "nbconvert_exporter": "python",
      "pygments_lexer": "ipython3",
      "version": "3.6.4"
    }
  },
  "nbformat": 4,
  "nbformat_minor": 0
}